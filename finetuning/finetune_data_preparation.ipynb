{
 "cells": [
  {
   "cell_type": "code",
   "execution_count": null,
   "metadata": {
    "colab": {
     "base_uri": "https://localhost:8080/"
    },
    "id": "a9NBgRCjcWk-",
    "outputId": "f00f1867-ff6d-4268-eaee-19b232075f6d"
   },
   "outputs": [
    {
     "output_type": "stream",
     "name": "stdout",
     "text": [
      "\u001B[?25l   \u001B[90m━━━━━━━━━━━━━━━━━━━━━━━━━━━━━━━━━━━━━━━━\u001B[0m \u001B[32m0.0/144.7 kB\u001B[0m \u001B[31m?\u001B[0m eta \u001B[36m-:--:--\u001B[0m\r\u001B[2K   \u001B[91m━━━━━━━━━━━━━━━━━━━━━━━━━━━━━━━━━━━━━━━\u001B[0m\u001B[91m╸\u001B[0m \u001B[32m143.4/144.7 kB\u001B[0m \u001B[31m8.1 MB/s\u001B[0m eta \u001B[36m0:00:01\u001B[0m\r\u001B[2K   \u001B[90m━━━━━━━━━━━━━━━━━━━━━━━━━━━━━━━━━━━━━━━━\u001B[0m \u001B[32m144.7/144.7 kB\u001B[0m \u001B[31m3.3 MB/s\u001B[0m eta \u001B[36m0:00:00\u001B[0m\n",
      "\u001B[?25h\u001B[?25l   \u001B[90m━━━━━━━━━━━━━━━━━━━━━━━━━━━━━━━━━━━━━━━━\u001B[0m \u001B[32m0.0/100.9 kB\u001B[0m \u001B[31m?\u001B[0m eta \u001B[36m-:--:--\u001B[0m\r\u001B[2K   \u001B[90m━━━━━━━━━━━━━━━━━━━━━━━━━━━━━━━━━━━━━━━━\u001B[0m \u001B[32m100.9/100.9 kB\u001B[0m \u001B[31m4.8 MB/s\u001B[0m eta \u001B[36m0:00:00\u001B[0m\n",
      "\u001B[?25h\u001B[31mERROR: pip's dependency resolver does not currently take into account all the packages that are installed. This behaviour is the source of the following dependency conflicts.\n",
      "jupyter-server 1.24.0 requires anyio<4,>=3.1.0, but you have anyio 4.9.0 which is incompatible.\u001B[0m\u001B[31m\n",
      "\u001B[0m"
     ]
    }
   ],
   "source": [
    "!pip install -q -U google-genai"
   ]
  },
  {
   "cell_type": "code",
   "execution_count": null,
   "metadata": {
    "id": "5n7Na4_Zci-d"
   },
   "outputs": [],
   "source": [
    "from google import genai\n",
    "from google.genai import types\n",
    "API_KEY = \"\"   # replace with your API key\n",
    "client = genai.Client(api_key=API_KEY)"
   ]
  },
  {
   "cell_type": "code",
   "execution_count": null,
   "metadata": {
    "id": "J0H6HUj8cqL4"
   },
   "outputs": [],
   "source": [
    "EDUCATIONS = \"\"\"Instruction: As a resume writing instructor, optimize the given \"education\" section of resume in JSON format.\n",
    "- Ensure integrity and consistency.\n",
    "- Retain all provided details of education and degree, including institution names, degrees, dates, GPA.\n",
    "- Only return \"education\" section as a response, don't include any other sections.\n",
    "- Avoid missing or adding any educational details.\n",
    "\n",
    "<output_example>\n",
    "\"education\": [\n",
    "  {{\n",
    "    \"degree\": \"Masters of Science - Computer Science (Thesis)\",\n",
    "    \"university\": \"Arizona State University, Tempe, USA\",\n",
    "    \"from_date\": \"Aug 2023\",\n",
    "    \"to_date\": \"May 2025\",\n",
    "    \"grade\": \"3.8/4\"\n",
    "  }},\n",
    "  {{\n",
    "    \"degree\": \"Bachelor of Science - Computer Science\",\n",
    "    \"university\": \"Bangalore University, Bangalore, India\",\n",
    "    \"from_date\": \"Aug 2019\",\n",
    "    \"to_date\": \"May 2023\",\n",
    "    \"grade\": \"3.6/4\"\n",
    "  }}\n",
    "]\n",
    "</output_example>\n",
    "\n",
    "\"\"\"\n",
    "\n",
    "PROJECTS = \"\"\"Instructions: Refine and rewrite the given \"projects\" section in JSON format.\n",
    "Follow these criteria:\n",
    "1. Only return refined \"projects\" section as a response, don't include other sections.\n",
    "2. Format each project in your response as the following output template.\n",
    "    \"projects\": [\n",
    "        {{\n",
    "          \"name\": \"project name1\",\n",
    "          \"link\": \"https://devpost.com/software/project1\",\n",
    "          \"from_date\": \"Nov 2023\",\n",
    "          \"to_date\": \"Nov 2023\",\n",
    "          \"description\": [\n",
    "            \"introduction of project task, key features, and results.\"\n",
    "          ]\n",
    "        }},\n",
    "        {{\n",
    "          \"name\": \"project name2\",\n",
    "          \"link\": \"https://devpost.com/software/project2\",\n",
    "          \"from_date\": \"June 2022\",\n",
    "          \"to_date\": \"July 2022\",\n",
    "          \"description\": [\n",
    "            \"introduction of project task, key features, and results.\"\n",
    "          ]\n",
    "        }}\n",
    "    ]\n",
    "\n",
    "3. Retain at most top 3 relevant projects to the job requirements in the resume.\n",
    "4. In each project description, it should include info, such as Task, Feature, Result.\n",
    "5. Improve clarity and alignment with the job requirements.\n",
    "6. Avoid adding details not given in the original resume data.\n",
    "\"\"\"\n",
    "\n",
    "SKILLS = \"\"\"Instructions: Refine and rewrite the given \"skill_section\" section of resume in JSON format.\n",
    "Follow these criteria:\n",
    "1. Only return \"skill_section\" section as a response, don't include any other sections.\n",
    "2. Remove irrelevant skills to the job description.\n",
    "3. Format your response as the following template.\n",
    "    \"skill_section\": [\n",
    "        {{\n",
    "          \"name\": \"Programming Languages\",\n",
    "          \"skills\": [\"Python\", \"JavaScript\"]\n",
    "        }},\n",
    "        {{\n",
    "          \"name\": \"Cloud Platform\",\n",
    "          \"skills\": [ \"Azure\", \"AWS\"]\n",
    "        }}\n",
    "      ]\n",
    "\n",
    "4. Ensure most relevant skills in resume are retained, and enhance alignment with the job description.\n",
    "5. Add other relevant skills showed in other sections of resume if they are aligned with job requirements.\n",
    "6. Avoid adding new skills that are not showed in resume.\n",
    "\"\"\"\n",
    "\n",
    "EXPERIENCE = \"\"\"Instructions: Refine and rewrite the given \"work_experience\" section of resume in JSON format.\n",
    "Follow these criteria:\n",
    "1. Return refined \"work_experience\" section as a response, don't include other sections.\n",
    "2. Format each experience as the following output template.\n",
    "    \"work_experience\": [\n",
    "        {{\n",
    "          \"role\": \"Software Engineer\",\n",
    "          \"company\": \"Winjit Technologies\",\n",
    "          \"location\": \"Pune, India\"\n",
    "          \"from_date\": \"Jan 2020\",\n",
    "          \"to_date\": \"Jun 2022\",\n",
    "          \"description\": [\n",
    "            \"Engineered 10+ RESTful APIs Architecture and Distributed services.\",\n",
    "            \"Designed 30+ low-latency responsive UI/UX application features with high-quality web architecture.\",\n",
    "            \"Managed and optimized large-scale Databases. (Systems Design).\"\n",
    "          ]\n",
    "        }}\n",
    "    ]\n",
    "\n",
    "3. Retain at most top 3 relevant experience without altering factual details.\n",
    "4. Avoid adding details not given in the original resume data.\n",
    "5. In each experience, description should include information about responsibilities and impacts as string text.\n",
    "6. Ensure clarity, coherence, and alignment with the job description.\n",
    "\"\"\"\n",
    "\n",
    "SUMMARY = \"\"\"Instructions: As a resume writing instructor, optimize the given \"summary\" section of resume in JSON format.\n",
    "- Retain key details while enhancing clarity, conciseness, and alignment with the job description.\n",
    "- Ensure a strong, informative summary without adding new, unprovided content.\n",
    "- Remove irrelevant and redundant content.\n",
    "- Only return \"summary\" section as a response, don't include any other sections.\n",
    "- No more than 100 words.\n",
    "\n",
    "<output_example>\n",
    "{{\n",
    "  \"summary\": \"Results-driven Marketing Professional with 5+ years of experience in digital marketing, brand strategy, and campaign management. Proven track record of increasing online engagement by 40% and driving a 25% boost in sales through data-driven strategies. Skilled in SEO, social media marketing, and analytics tools like Google Analytics and HubSpot. Passionate about creating innovative marketing solutions to help businesses grow. Seeking to leverage expertise in a dynamic, growth-oriented organization.\"\n",
    "}}\n",
    "</output_example>\"\"\""
   ]
  },
  {
   "cell_type": "code",
   "execution_count": null,
   "metadata": {
    "id": "6aExiztoct67"
   },
   "outputs": [],
   "source": [
    "import json\n",
    "import time\n",
    "json_file = \"/content/merged_json_ds.json\"\n",
    "with open(json_file, 'r') as file:\n",
    "    data = json.load(file)"
   ]
  },
  {
   "cell_type": "code",
   "execution_count": null,
   "metadata": {
    "id": "TuWZ8lQ8c56a"
   },
   "outputs": [],
   "source": [
    "merged_json = []"
   ]
  },
  {
   "cell_type": "code",
   "execution_count": null,
   "metadata": {
    "id": "ofb4_vv4c1Vs"
   },
   "outputs": [],
   "source": [
    "# can select one out of these three sections, comment the rest of sections\n",
    "section_dict = {\n",
    "    # 'skill_section': SKILLS\n",
    "    # 'projects': PROJECTS,\n",
    "    'work_experience': EXPERIENCE\n",
    "}\n"
   ]
  },
  {
   "cell_type": "code",
   "execution_count": null,
   "metadata": {
    "id": "JSM9sQxFc66Z"
   },
   "outputs": [],
   "source": [
    "for k in section_dict:\n",
    "\n",
    "  for instance in data:\n",
    "    if len(merged_json) > 150:\n",
    "      break\n",
    "    else:\n",
    "      input = instance.get(\"input\")\n",
    "      if input.get(\"resume\").get(\"work_experience\") is None or len(input.get(\"resume\").get(\"work_experience\"))<1:\n",
    "        continue\n",
    "      response = client.models.generate_content(\n",
    "          model=\"gemini-1.5-flash\", contents=f\"{input}\",\n",
    "          config=types.GenerateContentConfig(\n",
    "            system_instruction=f\"{section_dict[k]}\",\n",
    "            max_output_tokens= 2500,\n",
    "            top_k= 200,\n",
    "            top_p= 0.9,\n",
    "            temperature= 0.8,\n",
    "            response_mime_type= 'application/json',\n",
    "            stop_sequences= ['\\n']\n",
    "        )\n",
    "      )\n",
    "      # json_response = json.loads(response.text)\n",
    "      # refined_sections[key] = json_response\n",
    "\n",
    "      json_output = None\n",
    "      if response.text.startswith(\"```json\"):\n",
    "        generated_text = response.text\n",
    "        generated_text=generated_text.replace(\"```json\", \"\").replace(\"```\", \"\").strip()\n",
    "        json_output = json.loads(generated_text)\n",
    "      elif isinstance(response.text, str) and response.text.startswith(\"{\"):\n",
    "        json_output = json.loads(response.text)\n",
    "        if json_output.get(k) is None or len(json_output.get(k))<1:\n",
    "          continue\n",
    "      elif isinstance(response.text, str):\n",
    "        json_output = json.loads(\"{\"+response.text+\"}\")\n",
    "        if json_output.get(k) is None or len(json_output.get(k))<1:\n",
    "          continue\n",
    "      elif isinstance(response.text, dict):\n",
    "        json_output = response.text\n",
    "      else:\n",
    "        print(\"Unknown response type\")\n",
    "\n",
    "      if json_output is not None:\n",
    "        # print(json.dumps(json_output, indent=4))\n",
    "        for key in json_output:\n",
    "          if(len(json_output[key])>0):\n",
    "            input[\"instruction\"] = section_dict[k]\n",
    "            full_json = {\n",
    "                \"input\": input,\n",
    "                \"output\": json_output\n",
    "            }\n",
    "            merged_json.append(full_json)\n",
    "      time.sleep(60)"
   ]
  },
  {
   "cell_type": "code",
   "execution_count": null,
   "metadata": {
    "colab": {
     "base_uri": "https://localhost:8080/"
    },
    "id": "XS040cMwdVVA",
    "outputId": "277411aa-8cdd-417f-c021-1ea483cbc0c8"
   },
   "outputs": [
    {
     "output_type": "stream",
     "name": "stdout",
     "text": [
      "101\n"
     ]
    }
   ],
   "source": [
    "print(len(merged_json))"
   ]
  },
  {
   "cell_type": "code",
   "execution_count": null,
   "metadata": {
    "colab": {
     "base_uri": "https://localhost:8080/"
    },
    "id": "gCCKvADwQVW9",
    "outputId": "fd187bf4-9d79-4aa1-a4ce-c7076568f058"
   },
   "outputs": [
    {
     "output_type": "stream",
     "name": "stdout",
     "text": [
      "{\"work_experience\": [{\"role\": \"Information Technology\", \"company\": \"Company Name\", \"location\": \"City, State\", \"from_date\": \"02/2011\", \"to_date\": \"Current\", \"description\": [\"Managed accreditation efforts for a major department modernization project, resulting in 3 successful Authorization To Operate (ATO) decisions.\", \"Expanded responsibilities to include all departmental accreditation efforts, leading to another 3 successful ATOs.\", \"Currently working on 4 new accreditations, including re-authorization for an existing project. Successfully implemented vulnerability management for existing accredited systems.\", \"Successfully coordinated with ONI Enterprise on critical design decisions, ensuring smooth program integration into the Enterprise.\", \"Managed specific STIG compliance and hardening for various configurations and services required for domain integration.\", \"Analyzed complex computer systems to assess vulnerability and risk. Supervised 5 external computer consultants and vendors.\", \"Managed application patches, data backup, security changes and network configuration.\"]}, {\"role\": \"Systems Engineer\", \"company\": \"Company Name\", \"location\": \"City, State\", \"from_date\": \"02/2006\", \"to_date\": \"02/2011\", \"description\": [\"Initiated processing strategies to fulfill department analyst requirements by identifying product problems and strengths.\", \"Collected data on customer experience and reviewed Enterprise compliance to transition to new technology.\", \"Designed a local storage solution using off-the-shelf products, increasing local storage to over 200TB and saving over a million dollars in purchasing and maintenance costs.\", \"Designed, purchased, and accredited a Red Hat Linux high-compute cluster for processing big data formats.\", \"Improved big data analytical processing, reducing time from 30 hours to 30 minutes and enabling more robust data analysis.\"]}, {\"role\": \"Senior Systems Analyst\", \"company\": \"Company Name\", \"location\": \"City, State\", \"from_date\": \"02/1999\", \"to_date\": \"02/2006\", \"description\": [\"Improved corporate and client communications and processing requirements by designing, building, and deploying 3 Enterprise network solutions.\", \"Expanded capabilities to support Washington Navy Yard, Norfolk Virginia, and Hawaii support facilities.\", \"Developed preventive strategies and solutions to avoid interruptions and increase system security by documenting system layouts, wiring diagrams, and addressing schema.\"]}\n"
     ]
    }
   ],
   "source": [
    "print(response.text)"
   ]
  },
  {
   "cell_type": "code",
   "execution_count": null,
   "metadata": {
    "id": "xV7HmYXvdXk-"
   },
   "outputs": [],
   "source": [
    "refined_resume_section_file = \"/content/eval_json_exp_ds.json\"\n",
    "with open(refined_resume_section_file, \"w+\", encoding='utf-8') as output_file:\n",
    "  json.dump(merged_json, output_file, indent=4)"
   ]
  },
  {
   "metadata": {},
   "cell_type": "code",
   "outputs": [],
   "execution_count": null,
   "source": "merged_json = []"
  },
  {
   "metadata": {},
   "cell_type": "code",
   "outputs": [],
   "execution_count": null,
   "source": [
    "# can select one out of these three sections, comment the rest of sections\n",
    "section_dict = {\n",
    "    'skill_section': SKILLS\n",
    "}"
   ]
  },
  {
   "metadata": {},
   "cell_type": "code",
   "outputs": [],
   "execution_count": null,
   "source": [
    "for k in section_dict:\n",
    "\n",
    "  for instance in data:\n",
    "    if len(merged_json) > 150:\n",
    "      break\n",
    "    else:\n",
    "      input = instance.get(\"input\")\n",
    "      if input.get(\"resume\").get(\"skill_section\") is None or len(input.get(\"resume\").get(\"skill_section\"))<1:\n",
    "        continue\n",
    "      response = client.models.generate_content(\n",
    "          model=\"gemini-1.5-flash\", contents=f\"{input}\",\n",
    "          config=types.GenerateContentConfig(\n",
    "            system_instruction=f\"{section_dict[k]}\",\n",
    "            max_output_tokens= 2500,\n",
    "            top_k= 200,\n",
    "            top_p= 0.9,\n",
    "            temperature= 0.8,\n",
    "            response_mime_type= 'application/json',\n",
    "            stop_sequences= ['\\n']\n",
    "        )\n",
    "      )\n",
    "      # json_response = json.loads(response.text)\n",
    "      # refined_sections[key] = json_response\n",
    "\n",
    "      json_output = None\n",
    "      if response.text.startswith(\"```json\"):\n",
    "        generated_text = response.text\n",
    "        generated_text=generated_text.replace(\"```json\", \"\").replace(\"```\", \"\").strip()\n",
    "        json_output = json.loads(generated_text)\n",
    "      elif isinstance(response.text, str) and response.text.startswith(\"{\"):\n",
    "        json_output = json.loads(response.text)\n",
    "        if json_output.get(k) is None or len(json_output.get(k))<1:\n",
    "          continue\n",
    "      elif isinstance(response.text, str):\n",
    "        json_output = json.loads(\"{\"+response.text+\"}\")\n",
    "        if json_output.get(k) is None or len(json_output.get(k))<1:\n",
    "          continue\n",
    "      elif isinstance(response.text, dict):\n",
    "        json_output = response.text\n",
    "      else:\n",
    "        print(\"Unknown response type\")\n",
    "\n",
    "      if json_output is not None:\n",
    "        # print(json.dumps(json_output, indent=4))\n",
    "        for key in json_output:\n",
    "          if(len(json_output[key])>0):\n",
    "            input[\"instruction\"] = section_dict[k]\n",
    "            full_json = {\n",
    "                \"input\": input,\n",
    "                \"output\": json_output\n",
    "            }\n",
    "            merged_json.append(full_json)\n",
    "      time.sleep(60)"
   ]
  },
  {
   "metadata": {},
   "cell_type": "code",
   "outputs": [],
   "execution_count": null,
   "source": [
    "refined_resume_section_file = \"/content/eval_json_skill_ds.json\"\n",
    "with open(refined_resume_section_file, \"w+\", encoding='utf-8') as output_file:\n",
    "  json.dump(merged_json, output_file, indent=4)"
   ]
  }
 ],
 "metadata": {
  "colab": {
   "provenance": []
  },
  "kernelspec": {
   "display_name": "Python 3",
   "name": "python3"
  },
  "language_info": {
   "name": "python"
  }
 },
 "nbformat": 4,
 "nbformat_minor": 0
}
