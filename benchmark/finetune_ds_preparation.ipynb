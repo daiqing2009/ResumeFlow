{
  "nbformat": 4,
  "nbformat_minor": 0,
  "metadata": {
    "colab": {
      "provenance": []
    },
    "kernelspec": {
      "name": "python3",
      "display_name": "Python 3"
    },
    "language_info": {
      "name": "python"
    }
  },
  "cells": [
    {
      "cell_type": "code",
      "execution_count": null,
      "metadata": {
        "id": "a9NBgRCjcWk-"
      },
      "outputs": [],
      "source": [
        "!pip install -q -U google-genai"
      ]
    },
    {
      "cell_type": "code",
      "source": [
        "from google import genai\n",
        "from google.genai import types\n",
        "API_KEY = \"your_google_api_key\"   # replace with your API key\n",
        "client = genai.Client(api_key=API_KEY)"
      ],
      "metadata": {
        "id": "5n7Na4_Zci-d"
      },
      "execution_count": null,
      "outputs": []
    },
    {
      "cell_type": "code",
      "source": [
        "EDUCATIONS = \"\"\"Instruction: As a resume writing instructor, optimize the given \"education\" section of resume in JSON format.\n",
        "- Ensure integrity and consistency.\n",
        "- Retain all provided details of education and degree, including institution names, degrees, dates, GPA.\n",
        "- Only return \"education\" section as a response, don't include any other sections.\n",
        "- Avoid missing or adding any educational details.\n",
        "- Avoid hallucination.\n",
        "\n",
        "<output_example>\n",
        "\"education\": [\n",
        "  {{\n",
        "    \"degree\": \"Masters of Science - Computer Science (Thesis)\",\n",
        "    \"university\": \"Arizona State University, Tempe, USA\",\n",
        "    \"from_date\": \"Aug 2023\",\n",
        "    \"to_date\": \"May 2025\",\n",
        "    \"grade\": \"3.8/4\"\n",
        "  }},\n",
        "  {{\n",
        "    \"degree\": \"Bachelor of Science - Computer Science\",\n",
        "    \"university\": \"Bangalore University, Bangalore, India\",\n",
        "    \"from_date\": \"Aug 2019\",\n",
        "    \"to_date\": \"May 2023\",\n",
        "    \"grade\": \"3.6/4\"\n",
        "  }}\n",
        "]\n",
        "</output_example>\n",
        "\n",
        "\"\"\"\n",
        "\n",
        "PROJECTS = \"\"\"Instructions: As a resume writing instructor, improve the given \"projects\" section of resume in JSON format.\n",
        "- Retain listed projects in the resume.\n",
        "- Only return \"projects\" section as a response, don't include any other sections.\n",
        "- Improve clarity and alignment with the job requirements.\n",
        "- Use clear, concise and professional language.\n",
        "- Format each project with bullet points.\n",
        "- In each project description, it should include info, such as Task, Feature, Result.\n",
        "- Avoid hallucination or adding details not given in the original resume data..\n",
        "\n",
        "<output_template>\n",
        "\"projects\": [\n",
        "    {{\n",
        "      \"name\": \"project name1\",\n",
        "      \"link\": \"https://devpost.com/software/project1\",\n",
        "      \"from_date\": \"Nov 2023\",\n",
        "      \"to_date\": \"Nov 2023\",\n",
        "      \"description\": [\n",
        "        \"introduction of project task, key features, and results.\"\n",
        "      ]\n",
        "    }},\n",
        "    {{\n",
        "      \"name\": \"project name2\",\n",
        "      \"link\": \"https://devpost.com/software/project2\",\n",
        "      \"from_date\": \"June 2022\",\n",
        "      \"to_date\": \"July 2022\",\n",
        "      \"description\": [\n",
        "        \"introduction of project task, key features, and results.\"\n",
        "      ]\n",
        "    }}\n",
        "  ]\n",
        "</output_template>\n",
        "\n",
        "\"\"\"\n",
        "\n",
        "SKILLS = \"\"\"Instructions: As a resume writing instructor, optimize the given \"skill_section\" section of resume in JSON format.\n",
        "- Enhance the structure and alignment with the job description.\n",
        "- Only return \"skill_section\" section as a response, don't include any other sections.\n",
        "- Ensure most relevant skills in resume are retained.\n",
        "- Add other relevant skills showed in other sections of resume if they are aligned with job requirements.\n",
        "- Remove irrelevant details.\n",
        "- Use precise and professional language.\n",
        "- Avoid adding new skills that are not showed in resume.\n",
        "- Avoid hallucination.\n",
        "\n",
        "<output_example>\n",
        "\"skill_section\": [\n",
        "    {{\n",
        "      \"name\": \"Programming Languages\",\n",
        "      \"skills\": [\"Python\", \"JavaScript\"]\n",
        "    }},\n",
        "    {{\n",
        "      \"name\": \"Cloud and DevOps\",\n",
        "      \"skills\": [ \"Azure\", \"AWS\"]\n",
        "    }}\n",
        "  ]\n",
        "</output_example>\n",
        "\n",
        "\"\"\"\n",
        "\n",
        "EXPERIENCE = \"\"\"Instructions: As a resume writing instructor, optimize the given \"work_experience\" section of resume in JSON format.\n",
        "- Format each project as the following output_example.\n",
        "- In each experience, description should include information about responsibilities and impacts as string text.\n",
        "- Improve clarity, structure, and alignment with the job description.\n",
        "- Retain all important and relevant experience without altering factual details.\n",
        "- Only return \"work_experience\" section as a response, don't include any other sections.\n",
        "- Avoid adding details not given in the original resume data.\n",
        "\n",
        "<output_example>\n",
        "\"work_experience\": [\n",
        "    {{\n",
        "      \"role\": \"Software Engineer\",\n",
        "      \"company\": \"Winjit Technologies\",\n",
        "      \"location\": \"Pune, India\"\n",
        "      \"from_date\": \"Jan 2020\",\n",
        "      \"to_date\": \"Jun 2022\",\n",
        "      \"description\": [\n",
        "        \"Engineered 10+ RESTful APIs Architecture and Distributed services; Designed 30+ low-latency responsive UI/UX application features with high-quality web architecture; Managed and optimized large-scale Databases. (Systems Design)\",\n",
        "        \"Initiated and Designed a standardized solution for dynamic forms generation, with customizable CSS capabilities feature, which reduces development time by 8x; Led and collaborated with a 12 member cross-functional team. (Idea Generation)\"\n",
        "      ]\n",
        "    }}\n",
        "  ]\n",
        "</output_example>\n",
        "\n",
        "\"\"\"\n",
        "\n",
        "SUMMARY = \"\"\"Instructions: As a resume writing instructor, optimize the given \"summary\" section of resume in JSON format.\n",
        "- Retain key details while enhancing clarity, conciseness, and alignment with the job description.\n",
        "- Ensure a strong, informative summary without adding new, unprovided content.\n",
        "- Remove irrelevant and redundant content.\n",
        "- Only return \"summary\" section as a response, don't include any other sections.\n",
        "- No more than 100 words.\n",
        "- Avoid hallucination\n",
        "\n",
        "<output_example>\n",
        "{{\n",
        "  \"summary\": \"Results-driven Marketing Professional with 5+ years of experience in digital marketing, brand strategy, and campaign management. Proven track record of increasing online engagement by 40% and driving a 25% boost in sales through data-driven strategies. Skilled in SEO, social media marketing, and analytics tools like Google Analytics and HubSpot. Passionate about creating innovative marketing solutions to help businesses grow. Seeking to leverage expertise in a dynamic, growth-oriented organization.\"\n",
        "}}\n",
        "</output_example>\"\"\""
      ],
      "metadata": {
        "id": "J0H6HUj8cqL4"
      },
      "execution_count": null,
      "outputs": []
    },
    {
      "cell_type": "code",
      "source": [
        "import json\n",
        "import time\n",
        "json_file = \"/content/merged_json_ds.json\"\n",
        "with open(json_file, 'r') as file:\n",
        "    data = json.load(file)"
      ],
      "metadata": {
        "id": "6aExiztoct67"
      },
      "execution_count": null,
      "outputs": []
    },
    {
      "cell_type": "code",
      "source": [
        "merged_json = []"
      ],
      "metadata": {
        "id": "TuWZ8lQ8c56a"
      },
      "execution_count": null,
      "outputs": []
    },
    {
      "cell_type": "code",
      "source": [
        "# can select one out of these three sections, comment the rest of sections\n",
        "section_dict = {\n",
        "    'skill_section': SKILLS,\n",
        "    'projects': PROJECTS,\n",
        "    'work_experience': EXPERIENCE\n",
        "}\n"
      ],
      "metadata": {
        "id": "ofb4_vv4c1Vs"
      },
      "execution_count": null,
      "outputs": []
    },
    {
      "cell_type": "code",
      "source": [
        "for k in section_dict:\n",
        "  for instance in data:\n",
        "    input = instance.get(\"input\")\n",
        "    response = client.models.generate_content(\n",
        "        model=\"gemini-1.5-flash\", contents=f\"{input}\",\n",
        "        config=types.GenerateContentConfig(\n",
        "          system_instruction=f\"{section_dict[k]}\",\n",
        "          max_output_tokens= 2500,\n",
        "          top_k= 200,\n",
        "          top_p= 0.9,\n",
        "          temperature= 0.9,\n",
        "          response_mime_type= 'application/json',\n",
        "          stop_sequences= ['\\n']\n",
        "      )\n",
        "    )\n",
        "    # json_response = json.loads(response.text)\n",
        "    # refined_sections[key] = json_response\n",
        "\n",
        "    json_output = None\n",
        "    if response.text.startswith(\"```json\"):\n",
        "      generated_text = response.text\n",
        "      generated_text=generated_text.replace(\"```json\", \"\").replace(\"```\", \"\").strip()\n",
        "      json_output = json.loads(generated_text)\n",
        "    elif isinstance(response.text, str):\n",
        "      json_output = json.loads(response.text)\n",
        "    elif isinstance(response.text, dict):\n",
        "      json_output = response.text\n",
        "    else:\n",
        "      print(\"Unknown response type\")\n",
        "\n",
        "\n",
        "    if json_output is not None:\n",
        "      print(json.dumps(json_output, indent=4))\n",
        "      input[\"instruction\"] = section_dict[k]\n",
        "      full_json = {\n",
        "          \"input\": input,\n",
        "          \"output\": json_output\n",
        "      }\n",
        "      merged_json.append(full_json)\n",
        "      time.sleep(60)"
      ],
      "metadata": {
        "id": "JSM9sQxFc66Z"
      },
      "execution_count": null,
      "outputs": []
    },
    {
      "cell_type": "code",
      "source": [
        "print(len(merged_json))"
      ],
      "metadata": {
        "id": "XS040cMwdVVA"
      },
      "execution_count": null,
      "outputs": []
    },
    {
      "cell_type": "code",
      "source": [
        "refined_resume_section_file = \"/content/finetuning_resume_section_ds.json\"\n",
        "with open(refined_resume_file, \"w+\", encoding='utf-8') as output_file:\n",
        "  json.dump(merged_json, output_file, indent=4)"
      ],
      "metadata": {
        "id": "xV7HmYXvdXk-"
      },
      "execution_count": null,
      "outputs": []
    }
  ]
}